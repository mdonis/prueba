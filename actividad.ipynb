{
 "cells": [
  {
   "cell_type": "code",
   "execution_count": 6,
   "metadata": {},
   "outputs": [],
   "source": [
    "import pandas as pd\n",
    "import os\n",
    "os.chdir('C:/Users/mdonis/Documents/Maestría Data Science/Ciencia de Datos en Python/Sales')\n",
    "\n",
    "files = [file for file in os.listdir()]\n",
    "\n"
   ]
  },
  {
   "cell_type": "code",
   "execution_count": 7,
   "metadata": {},
   "outputs": [],
   "source": [
    "dc = pd.DataFrame()\n",
    "for file in files:\n",
    "    df = pd.read_csv('{}'.format(file))\n",
    "    dc = pd.concat([dc, df])"
   ]
  },
  {
   "cell_type": "code",
   "execution_count": 8,
   "metadata": {},
   "outputs": [],
   "source": [
    "# Ejercicio 2: Mes con mayor venta\n",
    "dc.dropna(inplace=True)\n",
    "\n",
    "datos = dc.groupby('Product').count()\n",
    "\n",
    "dc = dc[dc['Product'] != 'Product']\n",
    "\n",
    "dc['Order Date'] = pd.to_datetime(dc['Order Date'])\n",
    "\n",
    "\n",
    "dc['Total'] = pd.to_numeric(dc['Quantity Ordered'])*pd.to_numeric(dc['Price Each'])\n",
    "\n",
    "\n",
    "p = dc[dc['Order Date'].dt.year == 2019]\n",
    "\n",
    "result = p.groupby(p['Order Date'].dt.month_name())['Total'].sum()\n",
    "result = result.sort_values(ascending=False)\n",
    "result = result[result.index == result.idxmax(axis = 0)]\n",
    "\n",
    "# Ejercicio 3: Ciudad con mayor venta\n",
    "\n",
    "dc['Estado'] = dc['Purchase Address'].str.split(',', expand=True,n =1)[1]\n",
    "\n",
    "\n",
    "city = dc.groupby(dc['Estado'])['Total'].sum()\n",
    "city = city.sort_values(ascending=False)\n",
    "\n",
    "city = city[city.index == city.idxmax(axis = 0)]\n"
   ]
  },
  {
   "cell_type": "code",
   "execution_count": 13,
   "metadata": {},
   "outputs": [
    {
     "name": "stdout",
     "output_type": "stream",
     "text": [
      "Order Date\n",
      "December    4.613443e+06\n",
      "Name: Total, dtype: float64\n"
     ]
    }
   ],
   "source": [
    "print(result)"
   ]
  },
  {
   "cell_type": "code",
   "execution_count": 11,
   "metadata": {},
   "outputs": [
    {
     "name": "stdout",
     "output_type": "stream",
     "text": [
      "Estado\n",
      " San Francisco, CA 94016    8.262204e+06\n",
      "Name: Total, dtype: float64\n"
     ]
    }
   ],
   "source": [
    "print(city)"
   ]
  },
  {
   "cell_type": "code",
   "execution_count": null,
   "metadata": {},
   "outputs": [],
   "source": []
  }
 ],
 "metadata": {
  "kernelspec": {
   "display_name": "Python 3",
   "language": "python",
   "name": "python3"
  },
  "language_info": {
   "codemirror_mode": {
    "name": "ipython",
    "version": 3
   },
   "file_extension": ".py",
   "mimetype": "text/x-python",
   "name": "python",
   "nbconvert_exporter": "python",
   "pygments_lexer": "ipython3",
   "version": "3.8.5"
  }
 },
 "nbformat": 4,
 "nbformat_minor": 4
}
